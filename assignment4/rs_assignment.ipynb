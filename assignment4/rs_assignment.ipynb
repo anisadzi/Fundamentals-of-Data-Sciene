{
 "cells": [
  {
   "cell_type": "code",
   "execution_count": 55,
   "id": "4c7872b4-8038-48c5-82f7-d87285e02436",
   "metadata": {},
   "outputs": [],
   "source": [
    "import pandas as pd\n",
    "from math import sqrt\n",
    "import numpy as np"
   ]
  },
  {
   "cell_type": "code",
   "execution_count": 81,
   "id": "9ecb6027-cdd3-4941-9bdc-f5be431bdda5",
   "metadata": {},
   "outputs": [
    {
     "name": "stdout",
     "output_type": "stream",
     "text": [
      "<class 'pandas.core.frame.DataFrame'>\n",
      "RangeIndex: 62423 entries, 0 to 62422\n",
      "Data columns (total 3 columns):\n",
      " #   Column   Non-Null Count  Dtype \n",
      "---  ------   --------------  ----- \n",
      " 0   movieId  62423 non-null  int64 \n",
      " 1   title    62423 non-null  object\n",
      " 2   genres   62423 non-null  object\n",
      "dtypes: int64(1), object(2)\n",
      "memory usage: 1.4+ MB\n",
      "None\n"
     ]
    }
   ],
   "source": [
    "movies_df = pd.read_csv('C:/Users/NISA/Downloads/ml-25m/movies.csv', encoding='latin-1')\n",
    "ratings_df = pd.read_csv('C:/Users/NISA/Downloads/ml-25m/ratings.csv', encoding='latin-1')\n",
    "print(movies_df.info())"
   ]
  },
  {
   "cell_type": "code",
   "execution_count": 82,
   "id": "787ffb66-e4c9-4235-8bb5-515de8460cab",
   "metadata": {},
   "outputs": [
    {
     "data": {
      "text/html": [
       "<div>\n",
       "<style scoped>\n",
       "    .dataframe tbody tr th:only-of-type {\n",
       "        vertical-align: middle;\n",
       "    }\n",
       "\n",
       "    .dataframe tbody tr th {\n",
       "        vertical-align: top;\n",
       "    }\n",
       "\n",
       "    .dataframe thead th {\n",
       "        text-align: right;\n",
       "    }\n",
       "</style>\n",
       "<table border=\"1\" class=\"dataframe\">\n",
       "  <thead>\n",
       "    <tr style=\"text-align: right;\">\n",
       "      <th></th>\n",
       "      <th>movieId</th>\n",
       "      <th>title</th>\n",
       "      <th>genres</th>\n",
       "      <th>year</th>\n",
       "    </tr>\n",
       "  </thead>\n",
       "  <tbody>\n",
       "    <tr>\n",
       "      <th>0</th>\n",
       "      <td>1</td>\n",
       "      <td>Toy Story</td>\n",
       "      <td>Adventure|Animation|Children|Comedy|Fantasy</td>\n",
       "      <td>1995</td>\n",
       "    </tr>\n",
       "    <tr>\n",
       "      <th>1</th>\n",
       "      <td>2</td>\n",
       "      <td>Jumanji</td>\n",
       "      <td>Adventure|Children|Fantasy</td>\n",
       "      <td>1995</td>\n",
       "    </tr>\n",
       "    <tr>\n",
       "      <th>2</th>\n",
       "      <td>3</td>\n",
       "      <td>Grumpier Old Men</td>\n",
       "      <td>Comedy|Romance</td>\n",
       "      <td>1995</td>\n",
       "    </tr>\n",
       "    <tr>\n",
       "      <th>3</th>\n",
       "      <td>4</td>\n",
       "      <td>Waiting to Exhale</td>\n",
       "      <td>Comedy|Drama|Romance</td>\n",
       "      <td>1995</td>\n",
       "    </tr>\n",
       "    <tr>\n",
       "      <th>4</th>\n",
       "      <td>5</td>\n",
       "      <td>Father of the Bride Part II</td>\n",
       "      <td>Comedy</td>\n",
       "      <td>1995</td>\n",
       "    </tr>\n",
       "  </tbody>\n",
       "</table>\n",
       "</div>"
      ],
      "text/plain": [
       "   movieId                        title  \\\n",
       "0        1                    Toy Story   \n",
       "1        2                      Jumanji   \n",
       "2        3             Grumpier Old Men   \n",
       "3        4            Waiting to Exhale   \n",
       "4        5  Father of the Bride Part II   \n",
       "\n",
       "                                        genres  year  \n",
       "0  Adventure|Animation|Children|Comedy|Fantasy  1995  \n",
       "1                   Adventure|Children|Fantasy  1995  \n",
       "2                               Comedy|Romance  1995  \n",
       "3                         Comedy|Drama|Romance  1995  \n",
       "4                                       Comedy  1995  "
      ]
     },
     "execution_count": 82,
     "metadata": {},
     "output_type": "execute_result"
    }
   ],
   "source": [
    "movies_df['year'] = movies_df.title.str.extract('(\\(\\d\\d\\d\\d\\))',expand=False)\n",
    "movies_df['year'] = movies_df.year.str.extract('(\\d\\d\\d\\d)',expand=False)\n",
    "movies_df['title'] = movies_df.title.str.replace('(\\(\\d\\d\\d\\d\\))', '')\n",
    "movies_df['title'] = movies_df['title'].apply(lambda x: x.strip())\n",
    "movies_df.head()"
   ]
  },
  {
   "cell_type": "code",
   "execution_count": 83,
   "id": "5d63750a-0d97-4065-8de2-acf85d3607dc",
   "metadata": {},
   "outputs": [],
   "source": [
    "movies_df.drop(['genres'], axis = 1, inplace = True)\n",
    "ratings_df.drop(['timestamp'], axis = 1, inplace = True)"
   ]
  },
  {
   "cell_type": "code",
   "execution_count": 84,
   "id": "5c5eddea-df88-41a3-b9ea-fab9ae293498",
   "metadata": {},
   "outputs": [
    {
     "name": "stdout",
     "output_type": "stream",
     "text": [
      "                                        title  rating\n",
      "0      Harry Potter and the Half-Blood Prince     4.7\n",
      "1                                 Toy Story 3     3.8\n",
      "2  Star Wars: Episode VII - The Force Awakens     3.0\n",
      "3                               Black Panther     5.0\n",
      "4                          Mad Max: Fury Road     3.5\n"
     ]
    }
   ],
   "source": [
    "userInput = [{'title':'Harry Potter and the Half-Blood Prince', 'rating':4.7},\n",
    "             {'title':'Toy Story 3', 'rating':3.8},\n",
    "             {'title':'Star Wars: Episode VII - The Force Awakens', 'rating':3},\n",
    "             {'title':'Black Panther', 'rating':5},\n",
    "             {'title':'Mad Max: Fury Road', 'rating':3.5}]\n",
    "inputMovies = pd.DataFrame(userInput)\n",
    "print(inputMovies)"
   ]
  },
  {
   "cell_type": "code",
   "execution_count": 85,
   "id": "2ec5ea0a-96fa-4497-b880-c53b64e6b43a",
   "metadata": {},
   "outputs": [
    {
     "name": "stdout",
     "output_type": "stream",
     "text": [
      "   movieId                                       title  rating\n",
      "0    69844      Harry Potter and the Half-Blood Prince     4.7\n",
      "1    78499                                 Toy Story 3     3.8\n",
      "2   122882                          Mad Max: Fury Road     3.5\n",
      "3   122886  Star Wars: Episode VII - The Force Awakens     3.0\n",
      "4   122906                               Black Panther     5.0\n"
     ]
    }
   ],
   "source": [
    "inputId = movies_df[movies_df['title'].isin(inputMovies['title'].tolist())]\n",
    "inputMovies = pd.merge(inputId, inputMovies)\n",
    "inputMovies = inputMovies[['movieId','title','rating']]\n",
    "print(inputMovies)"
   ]
  },
  {
   "cell_type": "code",
   "execution_count": 86,
   "id": "01a453d2-801a-4737-b295-5e869bedd2a1",
   "metadata": {},
   "outputs": [
    {
     "name": "stdout",
     "output_type": "stream",
     "text": [
      "     userId  movieId  rating\n",
      "695       3    69844     3.5\n",
      "722       3    78499     4.0\n",
      "859       3   122882     3.5\n",
      "860       3   122886     3.0\n",
      "864       3   122906     4.0\n"
     ]
    }
   ],
   "source": [
    "userSubset = ratings_df[ratings_df['movieId'].isin(inputMovies['movieId'].tolist())]\n",
    "print(userSubset.head())\n"
   ]
  },
  {
   "cell_type": "code",
   "execution_count": 87,
   "id": "aa4c0478-40e5-4a41-9081-9018fc4b7c31",
   "metadata": {},
   "outputs": [
    {
     "name": "stdout",
     "output_type": "stream",
     "text": [
      "[(3,      userId  movieId  rating\n",
      "695       3    69844     3.5\n",
      "722       3    78499     4.0\n",
      "859       3   122882     3.5\n",
      "860       3   122886     3.0\n",
      "864       3   122906     4.0), (647,        userId  movieId  rating\n",
      "85443     647    69844     3.5\n",
      "85457     647    78499     3.5\n",
      "85538     647   122882     4.5\n",
      "85539     647   122886     1.5\n",
      "85543     647   122906     3.5), (901,         userId  movieId  rating\n",
      "125959     901    69844     3.5\n",
      "125997     901    78499     4.0\n",
      "126221     901   122882     5.0\n",
      "126222     901   122886     3.5\n",
      "126227     901   122906     3.5), (906,         userId  movieId  rating\n",
      "127536     906    69844     4.5\n",
      "127546     906    78499     4.0\n",
      "127637     906   122882     4.0\n",
      "127638     906   122886     4.0\n",
      "127642     906   122906     5.0), (997,         userId  movieId  rating\n",
      "141973     997    69844     2.5\n",
      "142057     997    78499     4.0\n",
      "142544     997   122882     3.5\n",
      "142545     997   122886     4.5\n",
      "142552     997   122906     5.0)]\n"
     ]
    }
   ],
   "source": [
    "userSubsetGroup = userSubset.groupby(['userId'])\n",
    "\n",
    "def take_5_elem(x):\n",
    "    return len(x[1])\n",
    "    \n",
    "\n",
    "userSubsetGroup = sorted(userSubsetGroup, key=take_5_elem, reverse=True)\n",
    "\n",
    "userSubsetGroup = userSubsetGroup[0:100]\n",
    "print(userSubsetGroup[0:5])\n"
   ]
  },
  {
   "cell_type": "code",
   "execution_count": 89,
   "id": "757ddbd3-bb7a-4a8f-a932-081dc1deb427",
   "metadata": {},
   "outputs": [],
   "source": [
    "pearsonCorrelationDict = {}\n",
    "\n",
    "for name, group in userSubsetGroup:\n",
    "\n",
    "    group = group.sort_values(by='movieId')\n",
    "    inputMovies = inputMovies.sort_values(by='movieId')\n",
    "\n",
    "    nRatings = len(group)\n",
    "\n",
    "    temp_df = inputMovies[inputMovies['movieId'].isin(group['movieId'].tolist())]\n",
    "\n",
    "    tempRatingList = temp_df['rating'].tolist()\n",
    "   \n",
    "    tempGroupList = group['rating'].tolist()\n",
    "   \n",
    "    \n",
    "    Sxx = sum([i**2 for i in tempRatingList]) - pow(sum(tempRatingList),2)/float(nRatings)\n",
    "    Syy = sum([i**2 for i in tempGroupList]) - pow(sum(tempGroupList),2)/float(nRatings)\n",
    "    Sxy = sum( i*j for i, j in zip(tempRatingList, tempGroupList)) - sum(tempRatingList)*sum(tempGroupList)/float(nRatings)\n",
    "\n",
    "    if Sxx != 0 and Syy != 0:\n",
    "        pearsonCorrelationDict[name] = Sxy/sqrt(Sxx*Syy)\n",
    "    else:\n",
    "        pearsonCorrelationDict[name] = 0"
   ]
  },
  {
   "cell_type": "code",
   "execution_count": 90,
   "id": "3b1af6ee-8531-43d5-ace3-6d4c90217f6f",
   "metadata": {},
   "outputs": [
    {
     "name": "stdout",
     "output_type": "stream",
     "text": [
      "   similarityIndex  userId\n",
      "0         0.645165       3\n",
      "1         0.410628     647\n",
      "2        -0.390996     901\n",
      "3         0.905246     906\n",
      "4        -0.093540     997\n"
     ]
    }
   ],
   "source": [
    "pearsonDF = pd.DataFrame.from_dict(pearsonCorrelationDict, orient='index')\n",
    "pearsonDF.columns = ['similarityIndex']\n",
    "pearsonDF['userId'] = pearsonDF.index\n",
    "pearsonDF.index = range(len(pearsonDF))\n",
    "print(pearsonDF.head())"
   ]
  },
  {
   "cell_type": "code",
   "execution_count": 91,
   "id": "e3ada759-2c79-4851-9362-db6db5e67a05",
   "metadata": {},
   "outputs": [
    {
     "name": "stdout",
     "output_type": "stream",
     "text": [
      "    similarityIndex  userId\n",
      "3          0.905246     906\n",
      "70         0.839506   13617\n",
      "37         0.661098    6281\n",
      "6          0.657004    1288\n",
      "25         0.645165    4688\n"
     ]
    }
   ],
   "source": [
    "topUsers=pearsonDF.sort_values(by='similarityIndex', ascending=False)[0:50]\n",
    "print(topUsers.head())"
   ]
  },
  {
   "cell_type": "code",
   "execution_count": 92,
   "id": "19f164fe-aeba-4f92-81c2-21c2def9ccc3",
   "metadata": {},
   "outputs": [
    {
     "name": "stdout",
     "output_type": "stream",
     "text": [
      "    similarityIndex  userId  movieId  rating\n",
      "0          0.905246     906        2     4.0\n",
      "1          0.905246     906       47     4.0\n",
      "2          0.905246     906       50     5.0\n",
      "3          0.905246     906      316     4.0\n",
      "4          0.905246     906      356     4.0\n",
      "..              ...     ...      ...     ...\n",
      "95         0.905246     906    68554     3.0\n",
      "96         0.905246     906    68954     4.0\n",
      "97         0.905246     906    69406     4.0\n",
      "98         0.905246     906    69844     4.5\n",
      "99         0.905246     906    70183     5.0\n",
      "\n",
      "[100 rows x 4 columns]\n"
     ]
    }
   ],
   "source": [
    "topUsersRating=topUsers.merge(ratings_df, left_on='userId', right_on='userId', how='inner')\n",
    "print(topUsersRating.head(100))"
   ]
  },
  {
   "cell_type": "code",
   "execution_count": 93,
   "id": "ea6fdae5-4b14-4371-ab3a-d5a82d6e8310",
   "metadata": {},
   "outputs": [
    {
     "name": "stdout",
     "output_type": "stream",
     "text": [
      "   similarityIndex  userId  movieId  rating  weightedRating\n",
      "0         0.905246     906        2     4.0        3.620982\n",
      "1         0.905246     906       47     4.0        3.620982\n",
      "2         0.905246     906       50     5.0        4.526228\n",
      "3         0.905246     906      316     4.0        3.620982\n",
      "4         0.905246     906      356     4.0        3.620982\n"
     ]
    }
   ],
   "source": [
    "topUsersRating['weightedRating'] = topUsersRating['similarityIndex']*topUsersRating['rating']\n",
    "print(topUsersRating.head())"
   ]
  },
  {
   "cell_type": "code",
   "execution_count": 94,
   "id": "6ba4fb39-3280-4ac9-a611-d99f6ea9be67",
   "metadata": {},
   "outputs": [
    {
     "name": "stdout",
     "output_type": "stream",
     "text": [
      "         sum_similarityIndex  sum_weightedRating\n",
      "movieId                                         \n",
      "1                   5.433434           21.127836\n",
      "2                   4.157996           12.312918\n",
      "3                   0.421068            0.022854\n",
      "4                   0.602254            1.806762\n",
      "5                   0.241736            0.557570\n"
     ]
    }
   ],
   "source": [
    "tempTopUsersRating = topUsersRating.groupby('movieId').sum()[['similarityIndex','weightedRating']]\n",
    "tempTopUsersRating.columns = ['sum_similarityIndex','sum_weightedRating']\n",
    "print(tempTopUsersRating.head())"
   ]
  },
  {
   "cell_type": "code",
   "execution_count": 95,
   "id": "6da6a873-7185-4099-9097-cea253859466",
   "metadata": {},
   "outputs": [
    {
     "name": "stdout",
     "output_type": "stream",
     "text": [
      "         weighted average recommendation score  movieId\n",
      "movieId                                                \n",
      "1                                     3.888487        1\n",
      "2                                     2.961262        2\n",
      "3                                     0.054277        3\n",
      "4                                     3.000000        4\n",
      "5                                     2.306524        5\n"
     ]
    }
   ],
   "source": [
    "recommendation_df = pd.DataFrame()\n",
    "\n",
    "recommendation_df['weighted average recommendation score'] = tempTopUsersRating['sum_weightedRating']/tempTopUsersRating['sum_similarityIndex']\n",
    "recommendation_df['movieId'] = tempTopUsersRating.index\n",
    "print(recommendation_df.head())"
   ]
  },
  {
   "cell_type": "code",
   "execution_count": 102,
   "id": "5cd6060e-76ec-451a-9140-426820868cec",
   "metadata": {},
   "outputs": [
    {
     "name": "stdout",
     "output_type": "stream",
     "text": [
      "         weighted average recommendation score  movieId\n",
      "movieId                                                \n",
      "3258                              2.265549e+13     3258\n",
      "86142                             1.812439e+13    86142\n",
      "85796                             1.341343e+03    85796\n",
      "5247                              5.849545e+01     5247\n",
      "2572                              3.494221e+01     2572\n"
     ]
    },
    {
     "data": {
      "text/html": [
       "<div>\n",
       "<style scoped>\n",
       "    .dataframe tbody tr th:only-of-type {\n",
       "        vertical-align: middle;\n",
       "    }\n",
       "\n",
       "    .dataframe tbody tr th {\n",
       "        vertical-align: top;\n",
       "    }\n",
       "\n",
       "    .dataframe thead th {\n",
       "        text-align: right;\n",
       "    }\n",
       "</style>\n",
       "<table border=\"1\" class=\"dataframe\">\n",
       "  <thead>\n",
       "    <tr style=\"text-align: right;\">\n",
       "      <th></th>\n",
       "      <th>movieId</th>\n",
       "      <th>title</th>\n",
       "      <th>year</th>\n",
       "    </tr>\n",
       "  </thead>\n",
       "  <tbody>\n",
       "    <tr>\n",
       "      <th>2481</th>\n",
       "      <td>2572</td>\n",
       "      <td>10 Things I Hate About You</td>\n",
       "      <td>1999</td>\n",
       "    </tr>\n",
       "    <tr>\n",
       "      <th>3067</th>\n",
       "      <td>3160</td>\n",
       "      <td>Magnolia</td>\n",
       "      <td>1999</td>\n",
       "    </tr>\n",
       "    <tr>\n",
       "      <th>3165</th>\n",
       "      <td>3258</td>\n",
       "      <td>Death Becomes Her</td>\n",
       "      <td>1992</td>\n",
       "    </tr>\n",
       "    <tr>\n",
       "      <th>5139</th>\n",
       "      <td>5247</td>\n",
       "      <td>Smokey and the Bandit</td>\n",
       "      <td>1977</td>\n",
       "    </tr>\n",
       "    <tr>\n",
       "      <th>5200</th>\n",
       "      <td>5308</td>\n",
       "      <td>Three Men and a Baby</td>\n",
       "      <td>1987</td>\n",
       "    </tr>\n",
       "    <tr>\n",
       "      <th>16232</th>\n",
       "      <td>85796</td>\n",
       "      <td>Hobo with a Shotgun</td>\n",
       "      <td>2011</td>\n",
       "    </tr>\n",
       "    <tr>\n",
       "      <th>16275</th>\n",
       "      <td>86142</td>\n",
       "      <td>13 Assassins (JÃ»san-nin no shikaku)</td>\n",
       "      <td>2010</td>\n",
       "    </tr>\n",
       "    <tr>\n",
       "      <th>18247</th>\n",
       "      <td>95558</td>\n",
       "      <td>Beasts of the Southern Wild</td>\n",
       "      <td>2012</td>\n",
       "    </tr>\n",
       "    <tr>\n",
       "      <th>19298</th>\n",
       "      <td>100326</td>\n",
       "      <td>Stand Up Guys</td>\n",
       "      <td>2012</td>\n",
       "    </tr>\n",
       "    <tr>\n",
       "      <th>54295</th>\n",
       "      <td>189241</td>\n",
       "      <td>Hotel Artemis</td>\n",
       "      <td>2018</td>\n",
       "    </tr>\n",
       "  </tbody>\n",
       "</table>\n",
       "</div>"
      ],
      "text/plain": [
       "       movieId                                 title  year\n",
       "2481      2572            10 Things I Hate About You  1999\n",
       "3067      3160                              Magnolia  1999\n",
       "3165      3258                     Death Becomes Her  1992\n",
       "5139      5247                 Smokey and the Bandit  1977\n",
       "5200      5308                  Three Men and a Baby  1987\n",
       "16232    85796                   Hobo with a Shotgun  2011\n",
       "16275    86142  13 Assassins (JÃ»san-nin no shikaku)  2010\n",
       "18247    95558           Beasts of the Southern Wild  2012\n",
       "19298   100326                         Stand Up Guys  2012\n",
       "54295   189241                         Hotel Artemis  2018"
      ]
     },
     "execution_count": 102,
     "metadata": {},
     "output_type": "execute_result"
    }
   ],
   "source": [
    "recommendation_df = recommendation_df.sort_values(by='weighted average recommendation score', ascending=False)\n",
    "print(recommendation_df.head())\n",
    "\n",
    "movies_df.loc[movies_df['movieId'].isin(recommendation_df.head(10)['movieId'].tolist())]"
   ]
  }
 ],
 "metadata": {
  "kernelspec": {
   "display_name": "Python 3 (ipykernel)",
   "language": "python",
   "name": "python3"
  },
  "language_info": {
   "codemirror_mode": {
    "name": "ipython",
    "version": 3
   },
   "file_extension": ".py",
   "mimetype": "text/x-python",
   "name": "python",
   "nbconvert_exporter": "python",
   "pygments_lexer": "ipython3",
   "version": "3.9.12"
  }
 },
 "nbformat": 4,
 "nbformat_minor": 5
}
